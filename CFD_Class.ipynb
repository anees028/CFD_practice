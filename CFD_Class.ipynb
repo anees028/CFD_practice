{
  "nbformat": 4,
  "nbformat_minor": 0,
  "metadata": {
    "colab": {
      "provenance": [],
      "authorship_tag": "ABX9TyOB8qEenddyUG0sDty6jRmp",
      "include_colab_link": true
    },
    "kernelspec": {
      "name": "python3",
      "display_name": "Python 3"
    },
    "language_info": {
      "name": "python"
    }
  },
  "cells": [
    {
      "cell_type": "markdown",
      "metadata": {
        "id": "view-in-github",
        "colab_type": "text"
      },
      "source": [
        "<a href=\"https://colab.research.google.com/github/anees028/CFD_practice/blob/main/CFD_Class.ipynb\" target=\"_parent\"><img src=\"https://colab.research.google.com/assets/colab-badge.svg\" alt=\"Open In Colab\"/></a>"
      ]
    },
    {
      "cell_type": "code",
      "execution_count": null,
      "metadata": {
        "colab": {
          "base_uri": "https://localhost:8080/"
        },
        "id": "1yUCSl4xRAvs",
        "outputId": "a73fdfbe-a8bc-444b-a67e-f0acb41bb4d4"
      },
      "outputs": [
        {
          "output_type": "stream",
          "name": "stdout",
          "text": [
            "X  =  [0.  0.1 0.2 0.3 0.4 0.5 0.6 0.7 0.8 0.9 1. ]\n",
            "First Element :  0.0\n",
            "Second Element :  0.1\n",
            "Last Element :  1.0\n"
          ]
        }
      ],
      "source": [
        "import numpy as np\n",
        "import matplotlib.pyplot as pl\n",
        "\n",
        "x, dx = np.linspace(0.,1.,11, retstep=True)\n",
        "\n",
        "\n",
        "print(\"X  = \",x)\n",
        "print(\"First Element : \",x[0])\n",
        "print(\"Second Element : \",x[1])\n",
        "print(\"Last Element : \",x[-1])\n",
        "\n"
      ]
    }
  ]
}